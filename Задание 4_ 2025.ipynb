{
  "nbformat": 4,
  "nbformat_minor": 0,
  "metadata": {
    "colab": {
      "provenance": [],
      "authorship_tag": "ABX9TyMsN8cDqAtrdf1A5cbZmf4J",
      "include_colab_link": true
    },
    "kernelspec": {
      "name": "python3",
      "display_name": "Python 3"
    },
    "language_info": {
      "name": "python"
    }
  },
  "cells": [
    {
      "cell_type": "markdown",
      "metadata": {
        "id": "view-in-github",
        "colab_type": "text"
      },
      "source": [
        "<a href=\"https://colab.research.google.com/github/SofyaZeleneva/MMVSULAB1/blob/main/%D0%97%D0%B0%D0%B4%D0%B0%D0%BD%D0%B8%D0%B5%204_%202025.ipynb\" target=\"_parent\"><img src=\"https://colab.research.google.com/assets/colab-badge.svg\" alt=\"Open In Colab\"/></a>"
      ]
    },
    {
      "cell_type": "markdown",
      "source": [],
      "metadata": {
        "id": "K09IFjiZJduH"
      }
    },
    {
      "cell_type": "markdown",
      "source": [
        "итерационно найти решения для первых 10 шагов\n",
        "x_k+1 = [0 9 12; 1/3 0 0; 0 1/2 0] * x_k, где x_0 = [0 0 1]"
      ],
      "metadata": {
        "id": "f0iHXDc-JgLa"
      }
    },
    {
      "cell_type": "code",
      "source": [
        "import numpy as np\n",
        "\n",
        "# Задаем матрицу перехода\n",
        "A = np.array([[0, 9, 12],\n",
        "              [1/3, 0, 0],\n",
        "              [0, 1/2, 0]])\n",
        "\n",
        "# Начальное условие\n",
        "x = np.array([0, 0, 1])\n",
        "\n",
        "# Вычисляем итерации\n",
        "results = [x.copy()]\n",
        "for k in range(10):\n",
        "    x = A @ x  # Умножение матрицы на вектор\n",
        "    results.append(x.copy())\n",
        "\n",
        "# Выводим результаты\n",
        "print(\"k\\tx1\\t\\tx2\\t\\tx3\")\n",
        "for k, vec in enumerate(results):\n",
        "    print(f\"{k}\\t{vec[0]:.4f}\\t{vec[1]:.4f}\\t{vec[2]:.4f}\")"
      ],
      "metadata": {
        "colab": {
          "base_uri": "https://localhost:8080/"
        },
        "id": "2fQfJy4QJwpY",
        "outputId": "6d5374f9-f411-4be3-926a-209e712304e5"
      },
      "execution_count": 3,
      "outputs": [
        {
          "output_type": "stream",
          "name": "stdout",
          "text": [
            "k\tx1\t\tx2\t\tx3\n",
            "0\t0.0000\t0.0000\t1.0000\n",
            "1\t12.0000\t0.0000\t0.0000\n",
            "2\t0.0000\t4.0000\t0.0000\n",
            "3\t36.0000\t0.0000\t2.0000\n",
            "4\t24.0000\t12.0000\t0.0000\n",
            "5\t108.0000\t8.0000\t6.0000\n",
            "6\t144.0000\t36.0000\t4.0000\n",
            "7\t372.0000\t48.0000\t18.0000\n",
            "8\t648.0000\t124.0000\t24.0000\n",
            "9\t1404.0000\t216.0000\t62.0000\n",
            "10\t2688.0000\t468.0000\t108.0000\n"
          ]
        }
      ]
    }
  ]
}